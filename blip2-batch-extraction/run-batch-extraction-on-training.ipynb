{
 "cells": [
  {
   "cell_type": "code",
   "execution_count": null,
   "id": "8b2c4a6b-671e-4dcd-ba5f-f45962c64aa9",
   "metadata": {
    "tags": []
   },
   "outputs": [],
   "source": [
    "# !git clone https://github.com/salesforce/LAVIS.git batch-inf/LAVIS/"
   ]
  },
  {
   "cell_type": "code",
   "execution_count": null,
   "id": "8b620e30-cd8f-46fa-bf66-96314555d99d",
   "metadata": {
    "tags": []
   },
   "outputs": [],
   "source": [
    "import sagemaker\n",
    "import boto3\n",
    "from sagemaker import get_execution_role\n",
    "\n",
    "sess = sagemaker.Session()\n",
    "role = get_execution_role()\n",
    "sagemaker_default_bucket = sess.default_bucket()\n",
    "region = sess.boto_session.region_name\n",
    "\n",
    "!cp batchinf.py batch-inf/\n",
    "!cp blip2_coco.yaml batch-inf/\n",
    "!cp envsets.sh batch-inf/\n",
    "!cp s5cmd batch-inf/"
   ]
  },
  {
   "cell_type": "code",
   "execution_count": null,
   "id": "40485ee5-2352-4c31-b662-983f0cb75b80",
   "metadata": {
    "scrolled": true,
    "tags": []
   },
   "outputs": [],
   "source": [
    "import time\n",
    "from datetime import datetime\n",
    "from sagemaker.estimator import Estimator\n",
    "\n",
    "image_uri = f'633205212955.dkr.ecr.{region}.amazonaws.com/sagemaker-torch113-cu117-jre:latest'\n",
    "\n",
    "instance_count = 1\n",
    "instance_type = 'ml.g5.4xlarge' ## p4d - 8*40G / p4de - 8*80G\n",
    "\n",
    "environment = {\n",
    "    'ITERS': str(10),\n",
    "    'BATCH_SIZE': str(200)\n",
    "}\n",
    "\n",
    "estimator = Estimator(role=role,\n",
    "                      entry_point='envsets.sh',\n",
    "                      source_dir='./batch-inf',\n",
    "                      base_job_name='blip2-coco-inf',\n",
    "                      instance_count=instance_count,\n",
    "                      instance_type=instance_type,\n",
    "                      image_uri=image_uri,\n",
    "                      environment=environment,\n",
    "                      max_run=5*3600, #任务最大存续时间，默认2day，需要提交ticket提升quota最大28天\n",
    "                     )\n",
    "\n",
    "estimator.fit()"
   ]
  },
  {
   "cell_type": "code",
   "execution_count": null,
   "id": "9d2f8efd-4f05-4cd5-8d57-9571d57eae07",
   "metadata": {},
   "outputs": [],
   "source": []
  }
 ],
 "metadata": {
  "kernelspec": {
   "display_name": "conda_python3",
   "language": "python",
   "name": "conda_python3"
  },
  "language_info": {
   "codemirror_mode": {
    "name": "ipython",
    "version": 3
   },
   "file_extension": ".py",
   "mimetype": "text/x-python",
   "name": "python",
   "nbconvert_exporter": "python",
   "pygments_lexer": "ipython3",
   "version": "3.10.12"
  }
 },
 "nbformat": 4,
 "nbformat_minor": 5
}
