{
 "cells": [
  {
   "cell_type": "code",
   "execution_count": null,
   "id": "f0777c97-bfdf-4a94-96cc-65afd282f315",
   "metadata": {
    "tags": []
   },
   "outputs": [],
   "source": [
    "!git clone https://github.com/salesforce/LAVIS.git"
   ]
  },
  {
   "cell_type": "code",
   "execution_count": null,
   "id": "b6440214-b6b1-4993-88d9-dd72ca9418bb",
   "metadata": {
    "tags": []
   },
   "outputs": [],
   "source": [
    "!curl -L https://github.com/peak/s5cmd/releases/download/v2.2.2/s5cmd_2.2.2_Linux-64bit.tar.gz | tar -xz s5cmd"
   ]
  },
  {
   "cell_type": "code",
   "execution_count": null,
   "id": "fa51ad26-d094-4a27-ba18-ee4f27064273",
   "metadata": {
    "tags": []
   },
   "outputs": [],
   "source": [
    "import sagemaker\n",
    "import boto3\n",
    "from sagemaker import get_execution_role\n",
    "\n",
    "sess = sagemaker.Session()\n",
    "role = get_execution_role()\n",
    "sagemaker_default_bucket = sess.default_bucket()\n",
    "region = sess.boto_session.region_name"
   ]
  },
  {
   "cell_type": "code",
   "execution_count": null,
   "id": "d9bbb476-abd0-4625-83a8-83482f7804c0",
   "metadata": {
    "tags": []
   },
   "outputs": [],
   "source": [
    "!cp s5cmd LAVIS/\n",
    "# !cp requirements.txt LAVIS/\n",
    "!cp entry.py LAVIS/\n",
    "!cp caption_coco_ft_2.yaml LAVIS/\n",
    "!cp default.yaml LAVIS/lavis/configs/\n",
    "!cp caption_builder.py LAVIS/lavis/datasets/builders/\n",
    "!cp train.py LAVIS/"
   ]
  },
  {
   "cell_type": "code",
   "execution_count": null,
   "id": "c1ebfbf5-f2ca-4956-a79a-c7bfcacd0cbc",
   "metadata": {
    "scrolled": true,
    "tags": []
   },
   "outputs": [],
   "source": [
    "import time\n",
    "from datetime import datetime\n",
    "from sagemaker.estimator import Estimator\n",
    "\n",
    "## pre-built docker in https://github.com/aws/deep-learning-containers/blob/master/available_images.md\n",
    "# image_uri = f'763104351884.dkr.ecr.{region}.amazonaws.com/pytorch-training:1.13.1-gpu-py39-cu117-ubuntu20.04-sagemaker'\n",
    "\n",
    "image_uri = f'633205212955.dkr.ecr.{region}.amazonaws.com/sagemaker-torch113-cu117-jre:latest'\n",
    "\n",
    "\n",
    "instance_count = 1\n",
    "instance_type = 'ml.p4d.24xlarge' ## p4d - 8*40G / p4de - 8*80G\n",
    "\n",
    "ts_str = str(datetime.now().strftime(\"%Y-%m-%d-%H-%M-%S\"))\n",
    "model_output_path = f's3://{sagemaker_default_bucket}/output-models/blip-caption/{ts_str}/' \n",
    "\n",
    "environment = {\n",
    "    'CONFIG_FILE': 'caption_coco_ft_2.yaml',\n",
    "    'TASK_FILE': 'train.py',\n",
    "    'NODE_NUMBER': str(instance_count),\n",
    "    'DATA_S3_PATH': f's3://llm-artifacts-us-east-1/datasets/coco-full/', ### coco2014, coco-full\n",
    "    # 'MODEL_S3_PATH': f's3://llm-artifacts-us-east-1/blip-pretrain-pth/', # source model files\n",
    "    'ANNO_S3_PATH': f's3://llm-artifacts-us-east-1/datasets/cocokarp-anno/', ### coco2014-anno, cocokarp-anno\n",
    "    'OUTPUT_MODEL_S3_PATH': model_output_path, # destination s3\n",
    "    # 'TOTAL_NUM_SAMPLES': str(2000) # dataset has 101 files total in hierachical dir\n",
    "}\n",
    "\n",
    "hyp_param = {\n",
    "    'output_dir': '/tmp/local_output/' # output dir in training container\n",
    "}\n",
    "\n",
    "estimator = Estimator(role=role,\n",
    "                      entry_point='entry.py',\n",
    "                      source_dir='./LAVIS',\n",
    "                      base_job_name='blip2-coco-cap',\n",
    "                      instance_count=instance_count,\n",
    "                      instance_type=instance_type,\n",
    "                      image_uri=image_uri,\n",
    "                      environment=environment,\n",
    "                      hyperparameters=hyp_param,\n",
    "                      max_run=2*24*3600, #任务最大存续时间，默认2day，需要提交ticket提升quota最大28天\n",
    "                      keep_alive_period_in_seconds=3600, #warmpool，为下一次训练保持机器&镜像（滚动续期，最大1hour）；需要开quota。\n",
    "                      # input_mode='FastFile', # https://sagemaker.readthedocs.io/en/stable/api/training/estimators.html\n",
    "                      disable_profiler=True,\n",
    "                      debugger_hook_config=False)\n",
    "\n",
    "\n",
    "# # data in channel will be automatically copied to each node - /opt/ml/input/data/train1\n",
    "# # should change data_path param to above path in torchrun\n",
    "# input_channel = {'train1': f's3://{sagemaker_default_bucket}/datasets/coig_alpaca_jsonline_data/'}\n",
    "# estimator.fit(input_channel)\n",
    "\n",
    "estimator.fit()"
   ]
  },
  {
   "cell_type": "code",
   "execution_count": null,
   "id": "3275d61e-f8de-4585-b0f2-51960b264db1",
   "metadata": {},
   "outputs": [],
   "source": [
    "!aws s3 ls {model_output_path}"
   ]
  },
  {
   "cell_type": "code",
   "execution_count": null,
   "id": "f6a59c5d-3441-432d-857f-bbc3f2acc692",
   "metadata": {},
   "outputs": [],
   "source": []
  },
  {
   "cell_type": "code",
   "execution_count": null,
   "id": "996c1571-5a99-4a17-8b1a-e9b79acb5d5c",
   "metadata": {},
   "outputs": [],
   "source": []
  }
 ],
 "metadata": {
  "kernelspec": {
   "display_name": "conda_python3",
   "language": "python",
   "name": "conda_python3"
  },
  "language_info": {
   "codemirror_mode": {
    "name": "ipython",
    "version": 3
   },
   "file_extension": ".py",
   "mimetype": "text/x-python",
   "name": "python",
   "nbconvert_exporter": "python",
   "pygments_lexer": "ipython3",
   "version": "3.10.10"
  }
 },
 "nbformat": 4,
 "nbformat_minor": 5
}
