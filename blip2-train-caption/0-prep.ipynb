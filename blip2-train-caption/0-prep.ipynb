{
 "cells": [
  {
   "cell_type": "code",
   "execution_count": null,
   "id": "6737ba0b-4954-4667-bfe6-8435b4252b3e",
   "metadata": {},
   "outputs": [],
   "source": []
  },
  {
   "cell_type": "code",
   "execution_count": null,
   "id": "4e28c9c7-153d-4fdf-a3c4-fa1f935279cb",
   "metadata": {},
   "outputs": [],
   "source": []
  },
  {
   "cell_type": "markdown",
   "id": "c133fb9a-2184-436f-a652-9b7664a3db58",
   "metadata": {},
   "source": [
    "## .pth defined in caption_coco.yaml @ BLIP/config"
   ]
  },
  {
   "cell_type": "code",
   "execution_count": null,
   "id": "5358a7b4-04b8-40d0-afa7-7a06bad52af2",
   "metadata": {},
   "outputs": [],
   "source": [
    "!chmod +x ./s5cmd"
   ]
  },
  {
   "cell_type": "code",
   "execution_count": null,
   "id": "524b4b21-804c-4eef-848d-3a83fe0ec658",
   "metadata": {},
   "outputs": [],
   "source": [
    "!wget https://storage.googleapis.com/sfr-vision-language-research/BLIP/models/model_base_caption_capfilt_large.pth"
   ]
  },
  {
   "cell_type": "code",
   "execution_count": null,
   "id": "08c9d1a1-c550-4048-8e9e-bd9edd3a6849",
   "metadata": {},
   "outputs": [],
   "source": [
    "!./s5cmd sync model_base_caption_capfilt_large.pth s3://llm-artifacts-us-east-1/blip-pretrain-pth/"
   ]
  },
  {
   "cell_type": "code",
   "execution_count": null,
   "id": "7b200a51-1e0c-42c1-b463-338033967e2b",
   "metadata": {},
   "outputs": [],
   "source": []
  },
  {
   "cell_type": "markdown",
   "id": "26f5acb1-c17c-4ba0-883d-d05eb32cd99f",
   "metadata": {},
   "source": [
    "## Coco dataset download"
   ]
  },
  {
   "cell_type": "code",
   "execution_count": null,
   "id": "0ad0078f-9621-46dc-9539-c5fc36e8fc32",
   "metadata": {
    "tags": []
   },
   "outputs": [],
   "source": [
    "# https://cocodataset.org/#download"
   ]
  },
  {
   "cell_type": "code",
   "execution_count": null,
   "id": "7364944e-acbe-4346-a1a2-25b1f097bac1",
   "metadata": {},
   "outputs": [],
   "source": []
  },
  {
   "cell_type": "code",
   "execution_count": null,
   "id": "a606b5af-1e2e-4720-9bcd-553cf5ec0894",
   "metadata": {},
   "outputs": [],
   "source": [
    "## 2014 dataset\n",
    "http://images.cocodataset.org/zips/train2014.zip\n",
    "http://images.cocodataset.org/zips/val2014.zip\n",
    "http://images.cocodataset.org/zips/test2014.zip\n",
    "\n",
    "## 2014 annotation (the BLIP project use customized annotition file)\n",
    "http://images.cocodataset.org/annotations/annotations_trainval2014.zip\n",
    "http://images.cocodataset.org/annotations/image_info_test2014.zip"
   ]
  },
  {
   "cell_type": "code",
   "execution_count": null,
   "id": "af107765-5f0c-4d3a-b53e-fe1e0e9b765c",
   "metadata": {},
   "outputs": [],
   "source": []
  },
  {
   "cell_type": "code",
   "execution_count": null,
   "id": "7cee98f5-31d7-4fdd-9de4-d285677ef130",
   "metadata": {},
   "outputs": [],
   "source": [
    "\n",
    "wget http://images.cocodataset.org/zips/train2014.zip\n",
    "unzip train2014.zip\n",
    "\n",
    "wget http://images.cocodataset.org/zips/val2014.zip\n",
    "unzip val2014.zip\n",
    "\n",
    "wget http://images.cocodataset.org/zips/test2014.zip\n",
    "unzip test2014.zip\n"
   ]
  },
  {
   "cell_type": "code",
   "execution_count": null,
   "id": "88a21764-efd5-4905-8f92-5a64e42c5262",
   "metadata": {},
   "outputs": [],
   "source": [
    "# Copy to s3\n",
    "import os\n",
    "def copy_single_path(d):\n",
    "    os.system(f'./s5cmd sync {d}/ s3://llm-artifacts-us-east-1/datasets/coco-full/{d}/')\n",
    "\n",
    "from joblib import Parallel, delayed\n",
    "subpth = ['train2014','val2014','test2014']\n",
    "Parallel(n_jobs=3)(delayed(copy_single_path)(i) for i in subpth)"
   ]
  },
  {
   "cell_type": "code",
   "execution_count": null,
   "id": "8f3e3f68-b0fa-4a66-9212-6934a97d904c",
   "metadata": {},
   "outputs": [],
   "source": []
  },
  {
   "cell_type": "code",
   "execution_count": null,
   "id": "6b1d3219-65f3-4b5a-b078-20eb5e1a34a8",
   "metadata": {},
   "outputs": [],
   "source": [
    "# !./s5cmd sync annotations/ s3://llm-artifacts-us-east-1/datasets/coco-full-anno/annotations/"
   ]
  },
  {
   "cell_type": "code",
   "execution_count": null,
   "id": "7e95108a-4dbe-4ccd-a43f-955918dbad82",
   "metadata": {},
   "outputs": [],
   "source": []
  },
  {
   "cell_type": "markdown",
   "id": "4301c8c3-5e6b-400f-9d0e-08a136affee9",
   "metadata": {},
   "source": [
    "## Customized annotation download"
   ]
  },
  {
   "cell_type": "code",
   "execution_count": null,
   "id": "2e7be325-2e31-4a0d-9010-bd050a8bdb3c",
   "metadata": {},
   "outputs": [],
   "source": [
    "!wget https://storage.googleapis.com/sfr-vision-language-research/datasets/coco_karpathy_train.json\n",
    "!wget https://storage.googleapis.com/sfr-vision-language-research/datasets/coco_karpathy_val.json\n",
    "!wget https://storage.googleapis.com/sfr-vision-language-research/datasets/coco_karpathy_test.json"
   ]
  },
  {
   "cell_type": "code",
   "execution_count": null,
   "id": "f4bfd710-6313-4d91-a7f8-18ef99cd9ccf",
   "metadata": {
    "tags": []
   },
   "outputs": [],
   "source": [
    "!./s5cmd sync coco_karpathy_train.json s3://llm-artifacts-us-east-1/datasets/cocokarp-anno/"
   ]
  },
  {
   "cell_type": "code",
   "execution_count": null,
   "id": "eb1af310-15f6-4906-afda-d0689b4f92ac",
   "metadata": {
    "tags": []
   },
   "outputs": [],
   "source": []
  },
  {
   "cell_type": "code",
   "execution_count": null,
   "id": "08c0e122-b16e-4dad-b580-1a07b67ca576",
   "metadata": {},
   "outputs": [],
   "source": [
    "# !./s5cmd sync coco_karpathy_val.json xxx"
   ]
  }
 ],
 "metadata": {
  "kernelspec": {
   "display_name": "conda_python3",
   "language": "python",
   "name": "conda_python3"
  },
  "language_info": {
   "codemirror_mode": {
    "name": "ipython",
    "version": 3
   },
   "file_extension": ".py",
   "mimetype": "text/x-python",
   "name": "python",
   "nbconvert_exporter": "python",
   "pygments_lexer": "ipython3",
   "version": "3.10.12"
  }
 },
 "nbformat": 4,
 "nbformat_minor": 5
}
